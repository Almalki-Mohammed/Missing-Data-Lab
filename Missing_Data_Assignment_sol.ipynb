{
 "cells": [
  {
   "cell_type": "markdown",
   "id": "modified-designation",
   "metadata": {},
   "source": [
    "### Import your libraries"
   ]
  },
  {
   "cell_type": "code",
   "execution_count": 1,
   "id": "offensive-lesbian",
   "metadata": {},
   "outputs": [],
   "source": [
    "import pandas as pd\n",
    "import numpy as np\n",
    "import seaborn as sns\n",
    "import matplotlib.pyplot as plt\n",
    "import plotly.express as px\n",
    "import warnings\n",
    "warnings.filterwarnings(\"ignore\")"
   ]
  },
  {
   "cell_type": "markdown",
   "id": "israeli-dialogue",
   "metadata": {},
   "source": [
    "### Load your dataset"
   ]
  },
  {
   "cell_type": "code",
   "execution_count": 2,
   "id": "typical-wrong",
   "metadata": {},
   "outputs": [],
   "source": [
    "df = pd.read_csv('HR_Missing_Values.csv')"
   ]
  },
  {
   "cell_type": "markdown",
   "id": "federal-television",
   "metadata": {},
   "source": [
    "### Explore your data \n",
    "\n",
    "* First 5 recods.\n",
    "* Last 5 records. \n",
    "* Check data types.\n",
    "* Show statistical summary.\n",
    "* Is there any missing values?\n",
    "* Applay two more data analysis from your choose."
   ]
  },
  {
   "cell_type": "code",
   "execution_count": 3,
   "id": "b9847604",
   "metadata": {},
   "outputs": [
    {
     "data": {
      "text/html": [
       "<div>\n",
       "<style scoped>\n",
       "    .dataframe tbody tr th:only-of-type {\n",
       "        vertical-align: middle;\n",
       "    }\n",
       "\n",
       "    .dataframe tbody tr th {\n",
       "        vertical-align: top;\n",
       "    }\n",
       "\n",
       "    .dataframe thead th {\n",
       "        text-align: right;\n",
       "    }\n",
       "</style>\n",
       "<table border=\"1\" class=\"dataframe\">\n",
       "  <thead>\n",
       "    <tr style=\"text-align: right;\">\n",
       "      <th></th>\n",
       "      <th>Employee_Name</th>\n",
       "      <th>EmpID</th>\n",
       "      <th>Salary</th>\n",
       "      <th>PositionID</th>\n",
       "      <th>Position</th>\n",
       "      <th>DOB</th>\n",
       "      <th>Sex</th>\n",
       "      <th>MaritalDesc</th>\n",
       "      <th>RaceDesc</th>\n",
       "      <th>DateofHire</th>\n",
       "      <th>DateofTermination</th>\n",
       "      <th>Department</th>\n",
       "      <th>ManagerName</th>\n",
       "      <th>ManagerID</th>\n",
       "      <th>RecruitmentSource</th>\n",
       "      <th>Absences</th>\n",
       "    </tr>\n",
       "  </thead>\n",
       "  <tbody>\n",
       "    <tr>\n",
       "      <th>0</th>\n",
       "      <td>Adinolfi, Wilson  K</td>\n",
       "      <td>10026</td>\n",
       "      <td>62506.0</td>\n",
       "      <td>19</td>\n",
       "      <td>Production Technician I</td>\n",
       "      <td>07/10/83</td>\n",
       "      <td>M</td>\n",
       "      <td>Single</td>\n",
       "      <td>White</td>\n",
       "      <td>7/5/2011</td>\n",
       "      <td>NaN</td>\n",
       "      <td>Production</td>\n",
       "      <td>Michael Albert</td>\n",
       "      <td>22.0</td>\n",
       "      <td>LinkedIn</td>\n",
       "      <td>1.0</td>\n",
       "    </tr>\n",
       "    <tr>\n",
       "      <th>1</th>\n",
       "      <td>Ait Sidi, Karthikeyan</td>\n",
       "      <td>10084</td>\n",
       "      <td>104437.0</td>\n",
       "      <td>27</td>\n",
       "      <td>Sr. DBA</td>\n",
       "      <td>05/05/75</td>\n",
       "      <td>M</td>\n",
       "      <td>Married</td>\n",
       "      <td>White</td>\n",
       "      <td>3/30/2015</td>\n",
       "      <td>6/16/2016</td>\n",
       "      <td>IT/IS</td>\n",
       "      <td>Simon Roup</td>\n",
       "      <td>4.0</td>\n",
       "      <td>Indeed</td>\n",
       "      <td>17.0</td>\n",
       "    </tr>\n",
       "    <tr>\n",
       "      <th>2</th>\n",
       "      <td>Akinkuolie, Sarah</td>\n",
       "      <td>10196</td>\n",
       "      <td>64955.0</td>\n",
       "      <td>20</td>\n",
       "      <td>Production Technician II</td>\n",
       "      <td>09/19/88</td>\n",
       "      <td>F</td>\n",
       "      <td>Married</td>\n",
       "      <td>White</td>\n",
       "      <td>7/5/2011</td>\n",
       "      <td>9/24/2012</td>\n",
       "      <td>Production</td>\n",
       "      <td>Kissy Sullivan</td>\n",
       "      <td>20.0</td>\n",
       "      <td>LinkedIn</td>\n",
       "      <td>3.0</td>\n",
       "    </tr>\n",
       "    <tr>\n",
       "      <th>3</th>\n",
       "      <td>Alagbe,Trina</td>\n",
       "      <td>10088</td>\n",
       "      <td>64991.0</td>\n",
       "      <td>19</td>\n",
       "      <td>Production Technician I</td>\n",
       "      <td>NaN</td>\n",
       "      <td>F</td>\n",
       "      <td>Married</td>\n",
       "      <td>White</td>\n",
       "      <td>1/7/2008</td>\n",
       "      <td>NaN</td>\n",
       "      <td>Production</td>\n",
       "      <td>Elijiah Gray</td>\n",
       "      <td>16.0</td>\n",
       "      <td>Indeed</td>\n",
       "      <td>15.0</td>\n",
       "    </tr>\n",
       "    <tr>\n",
       "      <th>4</th>\n",
       "      <td>NaN</td>\n",
       "      <td>10069</td>\n",
       "      <td>50825.0</td>\n",
       "      <td>19</td>\n",
       "      <td>Production Technician I</td>\n",
       "      <td>09/08/89</td>\n",
       "      <td>F</td>\n",
       "      <td>Divorced</td>\n",
       "      <td>White</td>\n",
       "      <td>7/11/2011</td>\n",
       "      <td>9/6/2016</td>\n",
       "      <td>Production</td>\n",
       "      <td>Webster Butler</td>\n",
       "      <td>39.0</td>\n",
       "      <td>Google Search</td>\n",
       "      <td>2.0</td>\n",
       "    </tr>\n",
       "  </tbody>\n",
       "</table>\n",
       "</div>"
      ],
      "text/plain": [
       "              Employee_Name  EmpID    Salary  PositionID  \\\n",
       "0       Adinolfi, Wilson  K  10026   62506.0          19   \n",
       "1  Ait Sidi, Karthikeyan     10084  104437.0          27   \n",
       "2         Akinkuolie, Sarah  10196   64955.0          20   \n",
       "3              Alagbe,Trina  10088   64991.0          19   \n",
       "4                       NaN  10069   50825.0          19   \n",
       "\n",
       "                   Position       DOB Sex MaritalDesc RaceDesc DateofHire  \\\n",
       "0   Production Technician I  07/10/83  M       Single    White   7/5/2011   \n",
       "1                   Sr. DBA  05/05/75  M      Married    White  3/30/2015   \n",
       "2  Production Technician II  09/19/88   F     Married    White   7/5/2011   \n",
       "3   Production Technician I       NaN   F     Married    White   1/7/2008   \n",
       "4   Production Technician I  09/08/89   F    Divorced    White  7/11/2011   \n",
       "\n",
       "  DateofTermination         Department     ManagerName  ManagerID  \\\n",
       "0               NaN  Production         Michael Albert       22.0   \n",
       "1         6/16/2016              IT/IS      Simon Roup        4.0   \n",
       "2         9/24/2012  Production         Kissy Sullivan       20.0   \n",
       "3               NaN  Production           Elijiah Gray       16.0   \n",
       "4          9/6/2016  Production         Webster Butler       39.0   \n",
       "\n",
       "  RecruitmentSource  Absences  \n",
       "0          LinkedIn       1.0  \n",
       "1            Indeed      17.0  \n",
       "2          LinkedIn       3.0  \n",
       "3            Indeed      15.0  \n",
       "4     Google Search       2.0  "
      ]
     },
     "execution_count": 3,
     "metadata": {},
     "output_type": "execute_result"
    }
   ],
   "source": [
    "df.head()"
   ]
  },
  {
   "cell_type": "code",
   "execution_count": 4,
   "id": "upper-movie",
   "metadata": {},
   "outputs": [
    {
     "data": {
      "text/html": [
       "<div>\n",
       "<style scoped>\n",
       "    .dataframe tbody tr th:only-of-type {\n",
       "        vertical-align: middle;\n",
       "    }\n",
       "\n",
       "    .dataframe tbody tr th {\n",
       "        vertical-align: top;\n",
       "    }\n",
       "\n",
       "    .dataframe thead th {\n",
       "        text-align: right;\n",
       "    }\n",
       "</style>\n",
       "<table border=\"1\" class=\"dataframe\">\n",
       "  <thead>\n",
       "    <tr style=\"text-align: right;\">\n",
       "      <th></th>\n",
       "      <th>Employee_Name</th>\n",
       "      <th>EmpID</th>\n",
       "      <th>Salary</th>\n",
       "      <th>PositionID</th>\n",
       "      <th>Position</th>\n",
       "      <th>DOB</th>\n",
       "      <th>Sex</th>\n",
       "      <th>MaritalDesc</th>\n",
       "      <th>RaceDesc</th>\n",
       "      <th>DateofHire</th>\n",
       "      <th>DateofTermination</th>\n",
       "      <th>Department</th>\n",
       "      <th>ManagerName</th>\n",
       "      <th>ManagerID</th>\n",
       "      <th>RecruitmentSource</th>\n",
       "      <th>Absences</th>\n",
       "    </tr>\n",
       "  </thead>\n",
       "  <tbody>\n",
       "    <tr>\n",
       "      <th>306</th>\n",
       "      <td>Woodson, Jason</td>\n",
       "      <td>10135</td>\n",
       "      <td>65893.0</td>\n",
       "      <td>20</td>\n",
       "      <td>Production Technician II</td>\n",
       "      <td>05/11/85</td>\n",
       "      <td>M</td>\n",
       "      <td>Single</td>\n",
       "      <td>White</td>\n",
       "      <td>7/7/2014</td>\n",
       "      <td>NaN</td>\n",
       "      <td>Production</td>\n",
       "      <td>Kissy Sullivan</td>\n",
       "      <td>20.0</td>\n",
       "      <td>LinkedIn</td>\n",
       "      <td>13.0</td>\n",
       "    </tr>\n",
       "    <tr>\n",
       "      <th>307</th>\n",
       "      <td>Ybarra, Catherine</td>\n",
       "      <td>10301</td>\n",
       "      <td>48513.0</td>\n",
       "      <td>19</td>\n",
       "      <td>Production Technician I</td>\n",
       "      <td>NaN</td>\n",
       "      <td>F</td>\n",
       "      <td>Single</td>\n",
       "      <td>Asian</td>\n",
       "      <td>9/2/2008</td>\n",
       "      <td>9/29/2015</td>\n",
       "      <td>Production</td>\n",
       "      <td>Brannon Miller</td>\n",
       "      <td>12.0</td>\n",
       "      <td>Google Search</td>\n",
       "      <td>4.0</td>\n",
       "    </tr>\n",
       "    <tr>\n",
       "      <th>308</th>\n",
       "      <td>NaN</td>\n",
       "      <td>10010</td>\n",
       "      <td>220450.0</td>\n",
       "      <td>6</td>\n",
       "      <td>CIO</td>\n",
       "      <td>NaN</td>\n",
       "      <td>F</td>\n",
       "      <td>Single</td>\n",
       "      <td>White</td>\n",
       "      <td>4/10/2010</td>\n",
       "      <td>NaN</td>\n",
       "      <td>IT/IS</td>\n",
       "      <td>Janet King</td>\n",
       "      <td>2.0</td>\n",
       "      <td>Employee Referral</td>\n",
       "      <td>16.0</td>\n",
       "    </tr>\n",
       "    <tr>\n",
       "      <th>309</th>\n",
       "      <td>Zhou, Julia</td>\n",
       "      <td>10043</td>\n",
       "      <td>89292.0</td>\n",
       "      <td>9</td>\n",
       "      <td>Data Analyst</td>\n",
       "      <td>02/24/79</td>\n",
       "      <td>F</td>\n",
       "      <td>Single</td>\n",
       "      <td>White</td>\n",
       "      <td>3/30/2015</td>\n",
       "      <td>NaN</td>\n",
       "      <td>IT/IS</td>\n",
       "      <td>Simon Roup</td>\n",
       "      <td>4.0</td>\n",
       "      <td>Employee Referral</td>\n",
       "      <td>NaN</td>\n",
       "    </tr>\n",
       "    <tr>\n",
       "      <th>310</th>\n",
       "      <td>NaN</td>\n",
       "      <td>10271</td>\n",
       "      <td>45046.0</td>\n",
       "      <td>19</td>\n",
       "      <td>Production Technician I</td>\n",
       "      <td>08/17/78</td>\n",
       "      <td>F</td>\n",
       "      <td>Widowed</td>\n",
       "      <td>Asian</td>\n",
       "      <td>9/29/2014</td>\n",
       "      <td>NaN</td>\n",
       "      <td>Production</td>\n",
       "      <td>David Stanley</td>\n",
       "      <td>14.0</td>\n",
       "      <td>LinkedIn</td>\n",
       "      <td>2.0</td>\n",
       "    </tr>\n",
       "  </tbody>\n",
       "</table>\n",
       "</div>"
      ],
      "text/plain": [
       "          Employee_Name  EmpID    Salary  PositionID  \\\n",
       "306      Woodson, Jason  10135   65893.0          20   \n",
       "307  Ybarra, Catherine   10301   48513.0          19   \n",
       "308                 NaN  10010  220450.0           6   \n",
       "309         Zhou, Julia  10043   89292.0           9   \n",
       "310                 NaN  10271   45046.0          19   \n",
       "\n",
       "                     Position       DOB Sex MaritalDesc RaceDesc DateofHire  \\\n",
       "306  Production Technician II  05/11/85  M       Single    White   7/7/2014   \n",
       "307   Production Technician I       NaN   F      Single    Asian   9/2/2008   \n",
       "308                       CIO       NaN   F      Single    White  4/10/2010   \n",
       "309              Data Analyst  02/24/79   F      Single    White  3/30/2015   \n",
       "310   Production Technician I  08/17/78   F     Widowed    Asian  9/29/2014   \n",
       "\n",
       "    DateofTermination         Department     ManagerName  ManagerID  \\\n",
       "306               NaN  Production         Kissy Sullivan       20.0   \n",
       "307         9/29/2015  Production         Brannon Miller       12.0   \n",
       "308               NaN              IT/IS      Janet King        2.0   \n",
       "309               NaN              IT/IS      Simon Roup        4.0   \n",
       "310               NaN  Production          David Stanley       14.0   \n",
       "\n",
       "     RecruitmentSource  Absences  \n",
       "306           LinkedIn      13.0  \n",
       "307      Google Search       4.0  \n",
       "308  Employee Referral      16.0  \n",
       "309  Employee Referral       NaN  \n",
       "310           LinkedIn       2.0  "
      ]
     },
     "execution_count": 4,
     "metadata": {},
     "output_type": "execute_result"
    }
   ],
   "source": [
    "df.tail()"
   ]
  },
  {
   "cell_type": "code",
   "execution_count": 5,
   "id": "ba092ac2",
   "metadata": {},
   "outputs": [
    {
     "data": {
      "text/html": [
       "<div>\n",
       "<style scoped>\n",
       "    .dataframe tbody tr th:only-of-type {\n",
       "        vertical-align: middle;\n",
       "    }\n",
       "\n",
       "    .dataframe tbody tr th {\n",
       "        vertical-align: top;\n",
       "    }\n",
       "\n",
       "    .dataframe thead th {\n",
       "        text-align: right;\n",
       "    }\n",
       "</style>\n",
       "<table border=\"1\" class=\"dataframe\">\n",
       "  <thead>\n",
       "    <tr style=\"text-align: right;\">\n",
       "      <th></th>\n",
       "      <th>EmpID</th>\n",
       "      <th>Salary</th>\n",
       "      <th>PositionID</th>\n",
       "      <th>ManagerID</th>\n",
       "      <th>Absences</th>\n",
       "    </tr>\n",
       "  </thead>\n",
       "  <tbody>\n",
       "    <tr>\n",
       "      <th>count</th>\n",
       "      <td>311.000000</td>\n",
       "      <td>249.000000</td>\n",
       "      <td>311.000000</td>\n",
       "      <td>303.000000</td>\n",
       "      <td>280.000000</td>\n",
       "    </tr>\n",
       "    <tr>\n",
       "      <th>mean</th>\n",
       "      <td>10156.000000</td>\n",
       "      <td>67972.662651</td>\n",
       "      <td>16.845659</td>\n",
       "      <td>14.570957</td>\n",
       "      <td>10.128571</td>\n",
       "    </tr>\n",
       "    <tr>\n",
       "      <th>std</th>\n",
       "      <td>89.922189</td>\n",
       "      <td>22995.908395</td>\n",
       "      <td>6.223419</td>\n",
       "      <td>8.078306</td>\n",
       "      <td>5.946407</td>\n",
       "    </tr>\n",
       "    <tr>\n",
       "      <th>min</th>\n",
       "      <td>10001.000000</td>\n",
       "      <td>45046.000000</td>\n",
       "      <td>1.000000</td>\n",
       "      <td>1.000000</td>\n",
       "      <td>1.000000</td>\n",
       "    </tr>\n",
       "    <tr>\n",
       "      <th>25%</th>\n",
       "      <td>10078.500000</td>\n",
       "      <td>55315.000000</td>\n",
       "      <td>18.000000</td>\n",
       "      <td>10.000000</td>\n",
       "      <td>4.750000</td>\n",
       "    </tr>\n",
       "    <tr>\n",
       "      <th>50%</th>\n",
       "      <td>10156.000000</td>\n",
       "      <td>62957.000000</td>\n",
       "      <td>19.000000</td>\n",
       "      <td>15.000000</td>\n",
       "      <td>10.000000</td>\n",
       "    </tr>\n",
       "    <tr>\n",
       "      <th>75%</th>\n",
       "      <td>10233.500000</td>\n",
       "      <td>71707.000000</td>\n",
       "      <td>20.000000</td>\n",
       "      <td>19.000000</td>\n",
       "      <td>15.250000</td>\n",
       "    </tr>\n",
       "    <tr>\n",
       "      <th>max</th>\n",
       "      <td>10311.000000</td>\n",
       "      <td>220450.000000</td>\n",
       "      <td>30.000000</td>\n",
       "      <td>39.000000</td>\n",
       "      <td>20.000000</td>\n",
       "    </tr>\n",
       "  </tbody>\n",
       "</table>\n",
       "</div>"
      ],
      "text/plain": [
       "              EmpID         Salary  PositionID   ManagerID    Absences\n",
       "count    311.000000     249.000000  311.000000  303.000000  280.000000\n",
       "mean   10156.000000   67972.662651   16.845659   14.570957   10.128571\n",
       "std       89.922189   22995.908395    6.223419    8.078306    5.946407\n",
       "min    10001.000000   45046.000000    1.000000    1.000000    1.000000\n",
       "25%    10078.500000   55315.000000   18.000000   10.000000    4.750000\n",
       "50%    10156.000000   62957.000000   19.000000   15.000000   10.000000\n",
       "75%    10233.500000   71707.000000   20.000000   19.000000   15.250000\n",
       "max    10311.000000  220450.000000   30.000000   39.000000   20.000000"
      ]
     },
     "execution_count": 5,
     "metadata": {},
     "output_type": "execute_result"
    }
   ],
   "source": [
    "df.describe()"
   ]
  },
  {
   "cell_type": "code",
   "execution_count": 6,
   "id": "25d954c5",
   "metadata": {},
   "outputs": [
    {
     "data": {
      "text/plain": [
       "Employee_Name         object\n",
       "EmpID                  int64\n",
       "Salary               float64\n",
       "PositionID             int64\n",
       "Position              object\n",
       "DOB                   object\n",
       "Sex                   object\n",
       "MaritalDesc           object\n",
       "RaceDesc              object\n",
       "DateofHire            object\n",
       "DateofTermination     object\n",
       "Department            object\n",
       "ManagerName           object\n",
       "ManagerID            float64\n",
       "RecruitmentSource     object\n",
       "Absences             float64\n",
       "dtype: object"
      ]
     },
     "execution_count": 6,
     "metadata": {},
     "output_type": "execute_result"
    }
   ],
   "source": [
    "df.dtypes"
   ]
  },
  {
   "cell_type": "markdown",
   "id": "a9faeea4",
   "metadata": {},
   "source": [
    "# Do the following steps for each column with missing values.\n",
    "- Identity the column.\n",
    "- How much precentage the missing value represents?\n",
    "- What is the best way to handle these missing values and why?\n",
    "- Apply your method to the column."
   ]
  },
  {
   "cell_type": "code",
   "execution_count": 7,
   "id": "8cff9a2e",
   "metadata": {},
   "outputs": [
    {
     "data": {
      "text/plain": [
       "Employee_Name         93\n",
       "EmpID                  0\n",
       "Salary                62\n",
       "PositionID             0\n",
       "Position               0\n",
       "DOB                   31\n",
       "Sex                   62\n",
       "MaritalDesc            0\n",
       "RaceDesc               0\n",
       "DateofHire             0\n",
       "DateofTermination    207\n",
       "Department             0\n",
       "ManagerName            0\n",
       "ManagerID              8\n",
       "RecruitmentSource      0\n",
       "Absences              31\n",
       "dtype: int64"
      ]
     },
     "execution_count": 7,
     "metadata": {},
     "output_type": "execute_result"
    }
   ],
   "source": [
    "df.isna().sum()"
   ]
  },
  {
   "cell_type": "code",
   "execution_count": 8,
   "id": "c4c96433",
   "metadata": {},
   "outputs": [
    {
     "data": {
      "text/plain": [
       "['Employee_Name',\n",
       " 'EmpID',\n",
       " 'Salary',\n",
       " 'PositionID',\n",
       " 'Position',\n",
       " 'DOB',\n",
       " 'Sex',\n",
       " 'MaritalDesc',\n",
       " 'RaceDesc',\n",
       " 'DateofHire',\n",
       " 'DateofTermination',\n",
       " 'Department',\n",
       " 'ManagerName',\n",
       " 'ManagerID',\n",
       " 'RecruitmentSource',\n",
       " 'Absences']"
      ]
     },
     "execution_count": 8,
     "metadata": {},
     "output_type": "execute_result"
    }
   ],
   "source": [
    "df.columns.tolist()"
   ]
  },
  {
   "cell_type": "code",
   "execution_count": 9,
   "id": "89c3f298",
   "metadata": {},
   "outputs": [
    {
     "data": {
      "text/html": [
       "<div>\n",
       "<style scoped>\n",
       "    .dataframe tbody tr th:only-of-type {\n",
       "        vertical-align: middle;\n",
       "    }\n",
       "\n",
       "    .dataframe tbody tr th {\n",
       "        vertical-align: top;\n",
       "    }\n",
       "\n",
       "    .dataframe thead th {\n",
       "        text-align: right;\n",
       "    }\n",
       "</style>\n",
       "<table border=\"1\" class=\"dataframe\">\n",
       "  <thead>\n",
       "    <tr style=\"text-align: right;\">\n",
       "      <th></th>\n",
       "      <th>Employee_Name</th>\n",
       "      <th>Salary</th>\n",
       "      <th>DOB</th>\n",
       "      <th>Sex</th>\n",
       "      <th>DateofTermination</th>\n",
       "      <th>ManagerID</th>\n",
       "      <th>Absences</th>\n",
       "    </tr>\n",
       "  </thead>\n",
       "  <tbody>\n",
       "    <tr>\n",
       "      <th>0</th>\n",
       "      <td>Adinolfi, Wilson  K</td>\n",
       "      <td>62506.0</td>\n",
       "      <td>07/10/83</td>\n",
       "      <td>M</td>\n",
       "      <td>NaN</td>\n",
       "      <td>22.0</td>\n",
       "      <td>1.0</td>\n",
       "    </tr>\n",
       "    <tr>\n",
       "      <th>1</th>\n",
       "      <td>Ait Sidi, Karthikeyan</td>\n",
       "      <td>104437.0</td>\n",
       "      <td>05/05/75</td>\n",
       "      <td>M</td>\n",
       "      <td>6/16/2016</td>\n",
       "      <td>4.0</td>\n",
       "      <td>17.0</td>\n",
       "    </tr>\n",
       "    <tr>\n",
       "      <th>2</th>\n",
       "      <td>Akinkuolie, Sarah</td>\n",
       "      <td>64955.0</td>\n",
       "      <td>09/19/88</td>\n",
       "      <td>F</td>\n",
       "      <td>9/24/2012</td>\n",
       "      <td>20.0</td>\n",
       "      <td>3.0</td>\n",
       "    </tr>\n",
       "    <tr>\n",
       "      <th>3</th>\n",
       "      <td>Alagbe,Trina</td>\n",
       "      <td>64991.0</td>\n",
       "      <td>NaN</td>\n",
       "      <td>F</td>\n",
       "      <td>NaN</td>\n",
       "      <td>16.0</td>\n",
       "      <td>15.0</td>\n",
       "    </tr>\n",
       "    <tr>\n",
       "      <th>4</th>\n",
       "      <td>NaN</td>\n",
       "      <td>50825.0</td>\n",
       "      <td>09/08/89</td>\n",
       "      <td>F</td>\n",
       "      <td>9/6/2016</td>\n",
       "      <td>39.0</td>\n",
       "      <td>2.0</td>\n",
       "    </tr>\n",
       "    <tr>\n",
       "      <th>...</th>\n",
       "      <td>...</td>\n",
       "      <td>...</td>\n",
       "      <td>...</td>\n",
       "      <td>...</td>\n",
       "      <td>...</td>\n",
       "      <td>...</td>\n",
       "      <td>...</td>\n",
       "    </tr>\n",
       "    <tr>\n",
       "      <th>306</th>\n",
       "      <td>Woodson, Jason</td>\n",
       "      <td>65893.0</td>\n",
       "      <td>05/11/85</td>\n",
       "      <td>M</td>\n",
       "      <td>NaN</td>\n",
       "      <td>20.0</td>\n",
       "      <td>13.0</td>\n",
       "    </tr>\n",
       "    <tr>\n",
       "      <th>307</th>\n",
       "      <td>Ybarra, Catherine</td>\n",
       "      <td>48513.0</td>\n",
       "      <td>NaN</td>\n",
       "      <td>F</td>\n",
       "      <td>9/29/2015</td>\n",
       "      <td>12.0</td>\n",
       "      <td>4.0</td>\n",
       "    </tr>\n",
       "    <tr>\n",
       "      <th>308</th>\n",
       "      <td>NaN</td>\n",
       "      <td>220450.0</td>\n",
       "      <td>NaN</td>\n",
       "      <td>F</td>\n",
       "      <td>NaN</td>\n",
       "      <td>2.0</td>\n",
       "      <td>16.0</td>\n",
       "    </tr>\n",
       "    <tr>\n",
       "      <th>309</th>\n",
       "      <td>Zhou, Julia</td>\n",
       "      <td>89292.0</td>\n",
       "      <td>02/24/79</td>\n",
       "      <td>F</td>\n",
       "      <td>NaN</td>\n",
       "      <td>4.0</td>\n",
       "      <td>NaN</td>\n",
       "    </tr>\n",
       "    <tr>\n",
       "      <th>310</th>\n",
       "      <td>NaN</td>\n",
       "      <td>45046.0</td>\n",
       "      <td>08/17/78</td>\n",
       "      <td>F</td>\n",
       "      <td>NaN</td>\n",
       "      <td>14.0</td>\n",
       "      <td>2.0</td>\n",
       "    </tr>\n",
       "  </tbody>\n",
       "</table>\n",
       "<p>311 rows × 7 columns</p>\n",
       "</div>"
      ],
      "text/plain": [
       "                Employee_Name    Salary       DOB Sex DateofTermination  \\\n",
       "0         Adinolfi, Wilson  K   62506.0  07/10/83  M                NaN   \n",
       "1    Ait Sidi, Karthikeyan     104437.0  05/05/75  M          6/16/2016   \n",
       "2           Akinkuolie, Sarah   64955.0  09/19/88   F         9/24/2012   \n",
       "3                Alagbe,Trina   64991.0       NaN   F               NaN   \n",
       "4                         NaN   50825.0  09/08/89   F          9/6/2016   \n",
       "..                        ...       ...       ...  ..               ...   \n",
       "306            Woodson, Jason   65893.0  05/11/85  M                NaN   \n",
       "307        Ybarra, Catherine    48513.0       NaN   F         9/29/2015   \n",
       "308                       NaN  220450.0       NaN   F               NaN   \n",
       "309               Zhou, Julia   89292.0  02/24/79   F               NaN   \n",
       "310                       NaN   45046.0  08/17/78   F               NaN   \n",
       "\n",
       "     ManagerID  Absences  \n",
       "0         22.0       1.0  \n",
       "1          4.0      17.0  \n",
       "2         20.0       3.0  \n",
       "3         16.0      15.0  \n",
       "4         39.0       2.0  \n",
       "..         ...       ...  \n",
       "306       20.0      13.0  \n",
       "307       12.0       4.0  \n",
       "308        2.0      16.0  \n",
       "309        4.0       NaN  \n",
       "310       14.0       2.0  \n",
       "\n",
       "[311 rows x 7 columns]"
      ]
     },
     "execution_count": 9,
     "metadata": {},
     "output_type": "execute_result"
    }
   ],
   "source": [
    "selectNullColumns=['Employee_Name','Salary','DOB','Sex','DateofTermination','ManagerID','Absences']\n",
    "selectNullColumns=df[selectNullColumns]\n",
    "selectNullColumns"
   ]
  },
  {
   "cell_type": "code",
   "execution_count": 54,
   "id": "f541e834",
   "metadata": {},
   "outputs": [
    {
     "name": "stdout",
     "output_type": "stream",
     "text": [
      "precentage the missing value is:\n",
      "Employee_Name        29.90\n",
      "Salary               19.94\n",
      "DOB                   9.97\n",
      "Sex                  19.94\n",
      "DateofTermination    66.56\n",
      "ManagerID             2.57\n",
      "Absences              9.97\n",
      "dtype: float64\n"
     ]
    }
   ],
   "source": [
    "res=selectNullColumns.isnull().mean().round(4) * 100\n",
    "print(f'precentage the missing value is:\\n{res}')"
   ]
  },
  {
   "cell_type": "code",
   "execution_count": 11,
   "id": "5ede9254",
   "metadata": {},
   "outputs": [
    {
     "data": {
      "image/png": "[encoded data removed]",
      "text/plain": [
       "<Figure size 640x480 with 1 Axes>"
      ]
     },
     "metadata": {},
     "output_type": "display_data"
    }
   ],
   "source": [
    "df.isna().sum().sort_values().plot(kind='barh',title='Missung value')\n",
    "plt.show()"
   ]
  },
  {
   "cell_type": "markdown",
   "id": "918a2bc6",
   "metadata": {},
   "source": [
    "# Absences\n",
    "- أفضل طريقه اني اعطيه قيمة صفر لان العمود خاص بالغياب \n",
    "- nan value تعني انه الموظف لم يغيب \n"
   ]
  },
  {
   "cell_type": "code",
   "execution_count": 12,
   "id": "72475e68",
   "metadata": {},
   "outputs": [
    {
     "data": {
      "image/png": "[encoded data removed]",
      "text/plain": [
       "<Figure size 640x480 with 1 Axes>"
      ]
     },
     "metadata": {},
     "output_type": "display_data"
    }
   ],
   "source": [
    "df.Absences.plot(kind=\"hist\", bins=20, title=\"Absences Distribution\");"
   ]
  },
  {
   "cell_type": "code",
   "execution_count": 13,
   "id": "6cdd1192",
   "metadata": {},
   "outputs": [
    {
     "data": {
      "text/plain": [
       "35.35975422427032"
      ]
     },
     "execution_count": 13,
     "metadata": {},
     "output_type": "execute_result"
    }
   ],
   "source": [
    "df.Absences.var()"
   ]
  },
  {
   "cell_type": "code",
   "execution_count": 14,
   "id": "428b802a",
   "metadata": {},
   "outputs": [
    {
     "data": {
      "text/plain": [
       "<bound method Series.count of 0       1.0\n",
       "1      17.0\n",
       "2       3.0\n",
       "3      15.0\n",
       "4       2.0\n",
       "       ... \n",
       "306    13.0\n",
       "307     4.0\n",
       "308    16.0\n",
       "309     0.0\n",
       "310     2.0\n",
       "Name: Absences, Length: 311, dtype: float64>"
      ]
     },
     "execution_count": 14,
     "metadata": {},
     "output_type": "execute_result"
    }
   ],
   "source": [
    "df.Absences=df.Absences.fillna(0.0)\n",
    "count_Ab=df.Absences.count\n",
    "count_Ab"
   ]
  },
  {
   "cell_type": "code",
   "execution_count": 15,
   "id": "163dd29f",
   "metadata": {},
   "outputs": [],
   "source": [
    "df.Absences=df.Absences.fillna(0.0)"
   ]
  },
  {
   "cell_type": "code",
   "execution_count": 16,
   "id": "a4f479a0",
   "metadata": {},
   "outputs": [
    {
     "data": {
      "image/png": "[encoded data removed]",
      "text/plain": [
       "<Figure size 640x480 with 1 Axes>"
      ]
     },
     "metadata": {},
     "output_type": "display_data"
    }
   ],
   "source": [
    "df.Absences.plot(kind=\"hist\", bins=20, title=\"Absences Distribution\");"
   ]
  },
  {
   "cell_type": "code",
   "execution_count": 17,
   "id": "46c9b70c",
   "metadata": {},
   "outputs": [
    {
     "data": {
      "text/plain": [
       "41.05999377657923"
      ]
     },
     "execution_count": 17,
     "metadata": {},
     "output_type": "execute_result"
    }
   ],
   "source": [
    "df.Absences.var()"
   ]
  },
  {
   "cell_type": "code",
   "execution_count": 18,
   "id": "c19e830c",
   "metadata": {},
   "outputs": [
    {
     "data": {
      "text/plain": [
       "0"
      ]
     },
     "execution_count": 18,
     "metadata": {},
     "output_type": "execute_result"
    }
   ],
   "source": [
    "df.Absences.isna().sum()"
   ]
  },
  {
   "cell_type": "markdown",
   "id": "718fcc38",
   "metadata": {},
   "source": [
    "## Column **DateofTermination**\n",
    "- لا يمكن تحديد تاريخ افتراضي ل انهاء العقد\n",
    "- اعطيتها قيمة Unknown_date"
   ]
  },
  {
   "cell_type": "code",
   "execution_count": 19,
   "id": "26d4b91c",
   "metadata": {},
   "outputs": [
    {
     "data": {
      "image/png": "[encoded data removed]",
      "text/plain": [
       "<Figure size 640x480 with 1 Axes>"
      ]
     },
     "metadata": {},
     "output_type": "display_data"
    }
   ],
   "source": [
    "df.DateofTermination.isna().value_counts().plot(kind='barh',title='Missung_value_DateofTermination');"
   ]
  },
  {
   "cell_type": "code",
   "execution_count": 20,
   "id": "c49413d2",
   "metadata": {},
   "outputs": [],
   "source": [
    "df.DateofTermination=df.DateofTermination.fillna('Unknown_date')"
   ]
  },
  {
   "cell_type": "code",
   "execution_count": 21,
   "id": "5c8e873e",
   "metadata": {},
   "outputs": [
    {
     "data": {
      "image/png": "[encoded data removed]",
      "text/plain": [
       "<Figure size 640x480 with 1 Axes>"
      ]
     },
     "metadata": {},
     "output_type": "display_data"
    }
   ],
   "source": [
    "df.DateofTermination.isna().value_counts().plot(kind='barh',title='Missung_value_DateofTermination');"
   ]
  },
  {
   "cell_type": "code",
   "execution_count": 22,
   "id": "ff30b57c",
   "metadata": {},
   "outputs": [
    {
     "data": {
      "text/plain": [
       "0"
      ]
     },
     "execution_count": 22,
     "metadata": {},
     "output_type": "execute_result"
    }
   ],
   "source": [
    "df.DateofTermination.isna().sum()"
   ]
  },
  {
   "cell_type": "markdown",
   "id": "1e126c7b",
   "metadata": {},
   "source": [
    "# Salary\n",
    "- هنا حددت قسم العمل وسويت مجموعه مع الراتب اعطيتهم القيمه على حسب القسم \n",
    "- كان فيه قيمه شاذه في البيانات اعطيتها قيمة الافرج ل رواتب الشركه"
   ]
  },
  {
   "cell_type": "code",
   "execution_count": 23,
   "id": "f2ca12ca",
   "metadata": {},
   "outputs": [
    {
     "data": {
      "image/png": "[encoded data removed]",
      "text/plain": [
       "<Figure size 640x480 with 1 Axes>"
      ]
     },
     "metadata": {},
     "output_type": "display_data"
    }
   ],
   "source": [
    "df.Salary.plot(kind='hist',title='Salary Distribution');"
   ]
  },
  {
   "cell_type": "code",
   "execution_count": 24,
   "id": "3d274886",
   "metadata": {},
   "outputs": [
    {
     "data": {
      "text/plain": [
       "528811802.89380103"
      ]
     },
     "execution_count": 24,
     "metadata": {},
     "output_type": "execute_result"
    }
   ],
   "source": [
    "df.Salary.var()"
   ]
  },
  {
   "cell_type": "code",
   "execution_count": 25,
   "id": "21594136",
   "metadata": {},
   "outputs": [
    {
     "data": {
      "text/html": [
       "<div>\n",
       "<style scoped>\n",
       "    .dataframe tbody tr th:only-of-type {\n",
       "        vertical-align: middle;\n",
       "    }\n",
       "\n",
       "    .dataframe tbody tr th {\n",
       "        vertical-align: top;\n",
       "    }\n",
       "\n",
       "    .dataframe thead th {\n",
       "        text-align: right;\n",
       "    }\n",
       "</style>\n",
       "<table border=\"1\" class=\"dataframe\">\n",
       "  <thead>\n",
       "    <tr style=\"text-align: right;\">\n",
       "      <th></th>\n",
       "      <th>Salary</th>\n",
       "    </tr>\n",
       "    <tr>\n",
       "      <th>Department</th>\n",
       "      <th></th>\n",
       "    </tr>\n",
       "  </thead>\n",
       "  <tbody>\n",
       "    <tr>\n",
       "      <th>Admin Offices</th>\n",
       "      <td>69135.125000</td>\n",
       "    </tr>\n",
       "    <tr>\n",
       "      <th>Executive Office</th>\n",
       "      <td>NaN</td>\n",
       "    </tr>\n",
       "    <tr>\n",
       "      <th>IT/IS</th>\n",
       "      <td>97054.222222</td>\n",
       "    </tr>\n",
       "    <tr>\n",
       "      <th>Production</th>\n",
       "      <td>59914.532544</td>\n",
       "    </tr>\n",
       "    <tr>\n",
       "      <th>Sales</th>\n",
       "      <td>69273.692308</td>\n",
       "    </tr>\n",
       "    <tr>\n",
       "      <th>Software Engineering</th>\n",
       "      <td>95148.800000</td>\n",
       "    </tr>\n",
       "  </tbody>\n",
       "</table>\n",
       "</div>"
      ],
      "text/plain": [
       "                            Salary\n",
       "Department                        \n",
       "Admin Offices         69135.125000\n",
       "Executive Office               NaN\n",
       "IT/IS                 97054.222222\n",
       "Production            59914.532544\n",
       "Sales                 69273.692308\n",
       "Software Engineering  95148.800000"
      ]
     },
     "execution_count": 25,
     "metadata": {},
     "output_type": "execute_result"
    }
   ],
   "source": [
    "select_columns=['Salary','Department']\n",
    "select_columns=df[select_columns]\n",
    "salary_and_depar=select_columns.groupby('Department').mean()\n",
    "salary_and_depar"
   ]
  },
  {
   "cell_type": "code",
   "execution_count": 26,
   "id": "60a751fb",
   "metadata": {},
   "outputs": [],
   "source": [
    "df['Salary'].fillna(df['Department'].map(salary_and_depar['Salary']),inplace=True)"
   ]
  },
  {
   "cell_type": "code",
   "execution_count": 27,
   "id": "a446f52b",
   "metadata": {},
   "outputs": [],
   "source": [
    "mean_salary=df.Salary.mean()\n",
    "df['Salary'].fillna(mean_salary,inplace=True)"
   ]
  },
  {
   "cell_type": "code",
   "execution_count": 28,
   "id": "c831bddd",
   "metadata": {},
   "outputs": [
    {
     "data": {
      "image/png": "[encoded data removed]",
      "text/plain": [
       "<Figure size 640x480 with 1 Axes>"
      ]
     },
     "metadata": {},
     "output_type": "display_data"
    }
   ],
   "source": [
    "df.Salary.plot(kind='hist',title='Salary Distribution')\n",
    "plt.show()"
   ]
  },
  {
   "cell_type": "code",
   "execution_count": 29,
   "id": "58beeed3",
   "metadata": {},
   "outputs": [
    {
     "data": {
      "text/plain": [
       "471887590.8027081"
      ]
     },
     "execution_count": 29,
     "metadata": {},
     "output_type": "execute_result"
    }
   ],
   "source": [
    "df.Salary.var()"
   ]
  },
  {
   "cell_type": "code",
   "execution_count": 30,
   "id": "ee4c83ae",
   "metadata": {},
   "outputs": [
    {
     "data": {
      "text/plain": [
       "0"
      ]
     },
     "execution_count": 30,
     "metadata": {},
     "output_type": "execute_result"
    }
   ],
   "source": [
    "df.Salary.isna().sum()"
   ]
  },
  {
   "cell_type": "markdown",
   "id": "d27ceeca",
   "metadata": {},
   "source": [
    "# DOB\n",
    "- ما ينفع تعطي قيمه افتراضيه لمولد شخص دون قياس سمات الوجهه\n",
    "- اعطيتها قيمة Unknown_date"
   ]
  },
  {
   "cell_type": "code",
   "execution_count": 31,
   "id": "7fc1aed1",
   "metadata": {},
   "outputs": [
    {
     "data": {
      "text/plain": [
       "31"
      ]
     },
     "execution_count": 31,
     "metadata": {},
     "output_type": "execute_result"
    }
   ],
   "source": [
    "df.DOB.isna().sum()"
   ]
  },
  {
   "cell_type": "code",
   "execution_count": 32,
   "id": "3ab32f49",
   "metadata": {},
   "outputs": [
    {
     "data": {
      "image/png": "[encoded data removed]",
      "text/plain": [
       "<Figure size 640x480 with 1 Axes>"
      ]
     },
     "metadata": {},
     "output_type": "display_data"
    }
   ],
   "source": [
    "df.DOB.isna().value_counts().plot(kind='barh',title='Missung_value_DateofTermination');"
   ]
  },
  {
   "cell_type": "code",
   "execution_count": 33,
   "id": "171fcf51",
   "metadata": {},
   "outputs": [],
   "source": [
    "df.DOB=df.DOB.fillna('Unknown_date')"
   ]
  },
  {
   "cell_type": "code",
   "execution_count": 34,
   "id": "8eebe1cd",
   "metadata": {},
   "outputs": [
    {
     "data": {
      "image/png": "[encoded data removed]",
      "text/plain": [
       "<Figure size 640x480 with 1 Axes>"
      ]
     },
     "metadata": {},
     "output_type": "display_data"
    }
   ],
   "source": [
    "df.DOB.isna().value_counts().plot(kind='barh',title='Missung_value_DateofTermination');"
   ]
  },
  {
   "cell_type": "code",
   "execution_count": 35,
   "id": "991f5140",
   "metadata": {},
   "outputs": [
    {
     "data": {
      "text/plain": [
       "0"
      ]
     },
     "execution_count": 35,
     "metadata": {},
     "output_type": "execute_result"
    }
   ],
   "source": [
    "df.DOB.isna().sum()"
   ]
  },
  {
   "cell_type": "markdown",
   "id": "156189d9",
   "metadata": {},
   "source": [
    "# Sex\n",
    "- لا يمكن تحديد نوع الجنس ل شخص دون الفحص الطبي\n",
    "- اعطيتها قيمة Unknown_date"
   ]
  },
  {
   "cell_type": "code",
   "execution_count": 36,
   "id": "880864c4",
   "metadata": {},
   "outputs": [
    {
     "data": {
      "image/png": "[encoded data removed]",
      "text/plain": [
       "<Figure size 640x480 with 1 Axes>"
      ]
     },
     "metadata": {},
     "output_type": "display_data"
    }
   ],
   "source": [
    "df.Sex.isna().value_counts().plot(kind='barh',title='Missung_value_DateofTermination');"
   ]
  },
  {
   "cell_type": "code",
   "execution_count": 37,
   "id": "6bdc8d2b",
   "metadata": {},
   "outputs": [],
   "source": [
    "df.Sex=df.Sex.fillna('Unknown_date')"
   ]
  },
  {
   "cell_type": "code",
   "execution_count": 38,
   "id": "a88a5cdf",
   "metadata": {},
   "outputs": [
    {
     "data": {
      "image/png": "[encoded data removed]",
      "text/plain": [
       "<Figure size 640x480 with 1 Axes>"
      ]
     },
     "metadata": {},
     "output_type": "display_data"
    }
   ],
   "source": [
    "df.Sex.isna().value_counts().plot(kind='barh',title='Missung_value_DateofTermination');"
   ]
  },
  {
   "cell_type": "code",
   "execution_count": 39,
   "id": "316c7ee2",
   "metadata": {},
   "outputs": [
    {
     "data": {
      "text/plain": [
       "0"
      ]
     },
     "execution_count": 39,
     "metadata": {},
     "output_type": "execute_result"
    }
   ],
   "source": [
    "df.Sex.isna().sum()"
   ]
  },
  {
   "cell_type": "markdown",
   "id": "5a91e7ea",
   "metadata": {},
   "source": [
    "# Employee_Name\n",
    "- لا يمكن تخمين اسم شخص ما \n",
    "- اعطيتها قيمة Unknown_date"
   ]
  },
  {
   "cell_type": "code",
   "execution_count": 40,
   "id": "f1c3d3b3",
   "metadata": {},
   "outputs": [
    {
     "data": {
      "image/png": "[encoded data removed]",
      "text/plain": [
       "<Figure size 640x480 with 1 Axes>"
      ]
     },
     "metadata": {},
     "output_type": "display_data"
    }
   ],
   "source": [
    "df.Employee_Name.isna().value_counts().plot(kind='barh',title='Missung_value_DateofTermination');"
   ]
  },
  {
   "cell_type": "code",
   "execution_count": 41,
   "id": "1f24a4f1",
   "metadata": {},
   "outputs": [],
   "source": [
    "df.Employee_Name=df.Employee_Name.fillna('Unknown_date')"
   ]
  },
  {
   "cell_type": "code",
   "execution_count": 42,
   "id": "42ebd7a8",
   "metadata": {},
   "outputs": [
    {
     "data": {
      "image/png": "[encoded data removed]",
      "text/plain": [
       "<Figure size 640x480 with 1 Axes>"
      ]
     },
     "metadata": {},
     "output_type": "display_data"
    }
   ],
   "source": [
    "df.Employee_Name.isna().value_counts().plot(kind='barh',title='Missung_value_DateofTermination');"
   ]
  },
  {
   "cell_type": "code",
   "execution_count": 43,
   "id": "e6f50f71",
   "metadata": {},
   "outputs": [
    {
     "data": {
      "text/plain": [
       "0"
      ]
     },
     "execution_count": 43,
     "metadata": {},
     "output_type": "execute_result"
    }
   ],
   "source": [
    "df.Employee_Name.isna().sum()"
   ]
  },
  {
   "cell_type": "code",
   "execution_count": 44,
   "id": "87564063",
   "metadata": {},
   "outputs": [
    {
     "data": {
      "text/plain": [
       "Employee_Name        0\n",
       "EmpID                0\n",
       "Salary               0\n",
       "PositionID           0\n",
       "Position             0\n",
       "DOB                  0\n",
       "Sex                  0\n",
       "MaritalDesc          0\n",
       "RaceDesc             0\n",
       "DateofHire           0\n",
       "DateofTermination    0\n",
       "Department           0\n",
       "ManagerName          0\n",
       "ManagerID            8\n",
       "RecruitmentSource    0\n",
       "Absences             0\n",
       "dtype: int64"
      ]
     },
     "execution_count": 44,
     "metadata": {},
     "output_type": "execute_result"
    }
   ],
   "source": [
    "df.isna().sum() "
   ]
  }
 ],
 "metadata": {
  "kernelspec": {
   "display_name": "Python 3 (ipykernel)",
   "language": "python",
   "name": "python3"
  },
  "language_info": {
   "codemirror_mode": {
    "name": "ipython",
    "version": 3
   },
   "file_extension": ".py",
   "mimetype": "text/x-python",
   "name": "python",
   "nbconvert_exporter": "python",
   "pygments_lexer": "ipython3",
   "version": "3.11.3"
  }
 },
 "nbformat": 4,
 "nbformat_minor": 5
}
